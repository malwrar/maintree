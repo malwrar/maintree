{
 "cells": [
  {
   "cell_type": "code",
   "execution_count": 1,
   "id": "8997016a",
   "metadata": {},
   "outputs": [
    {
     "ename": "SyntaxError",
     "evalue": "incomplete input (1066304991.py, line 1)",
     "output_type": "error",
     "traceback": [
      "\u001b[0;36m  Cell \u001b[0;32mIn [1], line 1\u001b[0;36m\u001b[0m\n\u001b[0;31m    a = [((0.0, 0.0), (1920.0, 1080.0))\u001b[0m\n\u001b[0m                                       ^\u001b[0m\n\u001b[0;31mSyntaxError\u001b[0m\u001b[0;31m:\u001b[0m incomplete input\n"
     ]
    }
   ],
   "source": [
    "a = [((0.0, 0.0), (1920.0, 1080.0))"
   ]
  },
  {
   "cell_type": "code",
   "execution_count": 2,
   "id": "6cfd5e81",
   "metadata": {},
   "outputs": [],
   "source": [
    "a = [\n",
    "    ((0.0, 0.0), (1920.0, 1080.0)),\n",
    "    ((100.0, 100.0), (500.0, 300.0)),\n",
    "    ((1320.0, 600.0), (600.0, 400.0)),\n",
    "]\n"
   ]
  },
  {
   "cell_type": "code",
   "execution_count": 3,
   "id": "feb9a3c9",
   "metadata": {},
   "outputs": [
    {
     "name": "stdout",
     "output_type": "stream",
     "text": [
      "0.0\n",
      "100.0\n",
      "1320.0\n"
     ]
    }
   ],
   "source": [
    "for e in a:\n",
    "    print(e[0][0])"
   ]
  },
  {
   "cell_type": "code",
   "execution_count": 4,
   "id": "d2cf43f3",
   "metadata": {},
   "outputs": [
    {
     "name": "stdout",
     "output_type": "stream",
     "text": [
      "(0.0, 0.0)\n",
      "(100.0, 100.0)\n",
      "(1320.0, 600.0)\n"
     ]
    }
   ],
   "source": [
    "for e in a:\n",
    "    print(e[0])"
   ]
  },
  {
   "cell_type": "code",
   "execution_count": 5,
   "id": "221e2ad3",
   "metadata": {},
   "outputs": [
    {
     "name": "stdout",
     "output_type": "stream",
     "text": [
      "0.0\n",
      "100.0\n",
      "1320.0\n"
     ]
    }
   ],
   "source": [
    "for ((x, y), (width, height)) in a:\n",
    "    print(x)"
   ]
  },
  {
   "cell_type": "code",
   "execution_count": 6,
   "id": "62b224e5",
   "metadata": {},
   "outputs": [
    {
     "ename": "SyntaxError",
     "evalue": "incomplete input (3545429136.py, line 3)",
     "output_type": "error",
     "traceback": [
      "\u001b[0;36m  Cell \u001b[0;32mIn [6], line 3\u001b[0;36m\u001b[0m\n\u001b[0;31m    \u001b[0m\n\u001b[0m    ^\u001b[0m\n\u001b[0;31mSyntaxError\u001b[0m\u001b[0;31m:\u001b[0m incomplete input\n"
     ]
    }
   ],
   "source": [
    "root_width = 1920\n",
    "for ((x, y), (width, height)) in a:\n",
    "    "
   ]
  },
  {
   "cell_type": "code",
   "execution_count": 7,
   "id": "9de44709",
   "metadata": {},
   "outputs": [
    {
     "name": "stdout",
     "output_type": "stream",
     "text": [
      "0.0 0.0 | 1920.0 1080.0 | 1920.0 1080.0\n",
      "100.0 100.0 | 500.0 300.0 | 600.0 400.0\n",
      "1320.0 600.0 | 600.0 400.0 | 1920.0 1000.0\n"
     ]
    }
   ],
   "source": [
    "root_width = 1920\n",
    "root_height = 1080\n",
    "for ((x, y), (width, height)) in a:\n",
    "    print(f'{x} {y} | {width} {height} | {x + width} {y + height}')"
   ]
  },
  {
   "cell_type": "code",
   "execution_count": 8,
   "id": "e84e7760",
   "metadata": {},
   "outputs": [
    {
     "name": "stdout",
     "output_type": "stream",
     "text": [
      "0.0 0.0 | 1920.0 1080.0 | 960.0 540.0\n",
      "100.0 100.0 | 500.0 300.0 | 350.0 250.0\n",
      "1320.0 600.0 | 600.0 400.0 | 1620.0 800.0\n"
     ]
    }
   ],
   "source": [
    "root_width = 1920\n",
    "root_height = 1080\n",
    "for ((x, y), (width, height)) in a:\n",
    "    print(f'{x} {y} | {width} {height} | {x + 0.5*width} {y + 0.5*height}')"
   ]
  },
  {
   "cell_type": "code",
   "execution_count": null,
   "id": "eb39411b",
   "metadata": {},
   "outputs": [],
   "source": [
    "root_width = 1920\n",
    "root_height = 1080\n",
    "for ((x, y), (width, height)) in a:\n",
    "    print(f'{x} {y} | {width} {height} | {x + 0.5*width} {y + 0.5*height}')"
   ]
  }
 ],
 "metadata": {
  "kernelspec": {
   "display_name": "Python 3 (ipykernel)",
   "language": "python",
   "name": "python3"
  },
  "language_info": {
   "codemirror_mode": {
    "name": "ipython",
    "version": 3
   },
   "file_extension": ".py",
   "mimetype": "text/x-python",
   "name": "python",
   "nbconvert_exporter": "python",
   "pygments_lexer": "ipython3",
   "version": "3.10.7"
  }
 },
 "nbformat": 4,
 "nbformat_minor": 5
}
